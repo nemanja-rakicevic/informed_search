{
 "cells": [
  {
   "cell_type": "code",
   "execution_count": 12,
   "metadata": {},
   "outputs": [
    {
     "name": "stderr",
     "output_type": "stream",
     "text": [
      "[2017-11-21 14:24:49,154] Making new env: ReacherOneShot-v0\n"
     ]
    }
   ],
   "source": [
    "import envs\n",
    "import gym\n",
    "import numpy as np\n",
    "env = gym.make('ReacherOneShot-v0')"
   ]
  },
  {
   "cell_type": "code",
   "execution_count": 18,
   "metadata": {},
   "outputs": [
    {
     "name": "stdout",
     "output_type": "stream",
     "text": [
      "[-1.   2.   0.   0.   0.   1.3]\n",
      "[  -1.     2.     0.     0.     0.     1.3    0.     0.     0.   130. ]\n",
      "[-1.   2.   0.   0.   0.   1.3]\n"
     ]
    }
   ],
   "source": [
    "print(env.unwrapped.init_qpos)\n",
    "print(env.reset())\n",
    "\n",
    "print(env.unwrapped.init_qpos)"
   ]
  },
  {
   "cell_type": "code",
   "execution_count": 17,
   "metadata": {},
   "outputs": [],
   "source": [
    "env.render()"
   ]
  },
  {
   "cell_type": "code",
   "execution_count": 15,
   "metadata": {
    "collapsed": true
   },
   "outputs": [],
   "source": [
    "env.render(close=True)"
   ]
  },
  {
   "cell_type": "code",
   "execution_count": 1,
   "metadata": {},
   "outputs": [
    {
     "ename": "NameError",
     "evalue": "name 'env' is not defined",
     "output_type": "error",
     "traceback": [
      "\u001b[0;31m-------\u001b[0m",
      "\u001b[0;31mNameError\u001b[0mTraceback (most recent call last)",
      "\u001b[0;32m<ipython-input-1-b3374179211a>\u001b[0m in \u001b[0;36m<module>\u001b[0;34m()\u001b[0m\n\u001b[0;32m----> 1\u001b[0;31m \u001b[0menv\u001b[0m\u001b[0;34m.\u001b[0m\u001b[0munwrapped\u001b[0m\u001b[0;34m.\u001b[0m\u001b[0minit_qpos\u001b[0m\u001b[0;34m[\u001b[0m\u001b[0;34m-\u001b[0m\u001b[0;36m2\u001b[0m\u001b[0;34m]\u001b[0m \u001b[0;34m=\u001b[0m \u001b[0;36m0.0\u001b[0m\u001b[0;34m\u001b[0m\u001b[0m\n\u001b[0m\u001b[1;32m      2\u001b[0m \u001b[0menv\u001b[0m\u001b[0;34m.\u001b[0m\u001b[0munwrapped\u001b[0m\u001b[0;34m.\u001b[0m\u001b[0minit_qpos\u001b[0m\u001b[0;34m[\u001b[0m\u001b[0;34m-\u001b[0m\u001b[0;36m1\u001b[0m\u001b[0;34m]\u001b[0m \u001b[0;34m=\u001b[0m \u001b[0;36m1.3\u001b[0m\u001b[0;34m\u001b[0m\u001b[0m\n\u001b[1;32m      3\u001b[0m \u001b[0menv\u001b[0m\u001b[0;34m.\u001b[0m\u001b[0mreset\u001b[0m\u001b[0;34m(\u001b[0m\u001b[0;34m)\u001b[0m\u001b[0;34m\u001b[0m\u001b[0m\n",
      "\u001b[0;31mNameError\u001b[0m: name 'env' is not defined"
     ]
    }
   ],
   "source": [
    "env.unwrapped.init_qpos[-2] = 0.0\n",
    "env.unwrapped.init_qpos[-1] = 1.3\n",
    "env.reset()"
   ]
  },
  {
   "cell_type": "code",
   "execution_count": 11,
   "metadata": {},
   "outputs": [
    {
     "data": {
      "text/plain": [
       "array([ -1.20000000e+00,   2.50000000e+00,   0.00000000e+00,\n",
       "        -2.50000000e+00,   1.20000000e+00,   0.00000000e+00,\n",
       "         0.00000000e+00,   9.05866658e-02,   3.38074039e-01,\n",
       "        -2.50000000e-02,   4.33012702e-02,  -1.75000000e-01,\n",
       "         3.03108891e-01,   4.53153894e-02,   2.11309131e-02,\n",
       "         3.17207725e-01,   1.47916392e-01,   0.00000000e+00,\n",
       "         0.00000000e+00,   9.05866658e+00,   3.38074039e+01])"
      ]
     },
     "execution_count": 11,
     "metadata": {},
     "output_type": "execute_result"
    }
   ],
   "source": [
    "\n",
    "\n",
    "env.unwrapped.init_qpos[-2] = - 35 * np.sin(np.deg2rad(-65)) / 100.\n",
    "env.unwrapped.init_qpos[-1] = 35 * np.cos(np.deg2rad(-65)) / 100.\n",
    "\n",
    "env.unwrapped.init_qpos[-4] = - 5 * np.sin(np.deg2rad(-65)) / 100.\n",
    "env.unwrapped.init_qpos[-3] = 5 * np.cos(np.deg2rad(-65)) / 100.\n",
    "\n",
    "env.unwrapped.init_qpos[-6] = - 35 * np.sin(np.deg2rad(30)) / 100.\n",
    "env.unwrapped.init_qpos[-5] = 35 * np.cos(np.deg2rad(30)) / 100.\n",
    "\n",
    "env.unwrapped.init_qpos[-8] = - 5 * np.sin(np.deg2rad(30)) / 100.\n",
    "env.unwrapped.init_qpos[-7] = 5 * np.cos(np.deg2rad(30)) / 100.\n",
    "\n",
    "env.unwrapped.init_qpos[-10] = - 35 * np.sin(np.deg2rad(-15)) / 100.\n",
    "env.unwrapped.init_qpos[-9] = 35 * np.cos(np.deg2rad(-15)) / 100.\n",
    "\n",
    "env.reset()"
   ]
  }
 ],
 "metadata": {
  "kernelspec": {
   "display_name": "Python 3",
   "language": "python",
   "name": "python3"
  },
  "language_info": {
   "codemirror_mode": {
    "name": "ipython",
    "version": 3
   },
   "file_extension": ".py",
   "mimetype": "text/x-python",
   "name": "python",
   "nbconvert_exporter": "python",
   "pygments_lexer": "ipython3",
   "version": "3.5.2"
  },
  "widgets": {
   "state": {},
   "version": "1.1.2"
  }
 },
 "nbformat": 4,
 "nbformat_minor": 2
}
