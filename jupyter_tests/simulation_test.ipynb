{
 "cells": [
  {
   "cell_type": "code",
   "execution_count": null,
   "metadata": {
    "collapsed": false
   },
   "outputs": [],
   "source": [
    "import numpy as np\n",
    "import matplotlib.pyplot as plt\n",
    "from matplotlib import animation\n",
    "import sys\n"
   ]
  },
  {
   "cell_type": "code",
   "execution_count": null,
   "metadata": {
    "collapsed": true
   },
   "outputs": [],
   "source": []
  },
  {
   "cell_type": "code",
   "execution_count": null,
   "metadata": {
    "collapsed": false
   },
   "outputs": [],
   "source": [
    "param1 = np.pi/4\n",
    "param2 = -np.pi/8\n",
    "\n",
    "theta1_list = np.linspace(np.pi/2, np.pi/2 + param1, 100)\n",
    "theta2_list = np.linspace(0, 0 + param2, 100)\n",
    "\n",
    "# First set up the figure, the axis, and the plot element we want to animate\n",
    "WIDTH = 20\n",
    "HEIGHT = 50\n",
    "LEN_SEGM = 20\n",
    "\n",
    "fig = plt.figure()\n",
    "ax = plt.axes(xlim=(-WIDTH-2, WIDTH+2), ylim=(-2, HEIGHT+2))\n",
    "plt.axis('off')\n",
    "line1, = ax.plot([], [], lw=5, color='b')\n",
    "line2, = ax.plot([], [], lw=5, color='g')\n",
    "joint2, = ax.plot([], [],'g', marker='o', markerfacecolor='green', markersize=12) \n",
    "\n",
    "# initialization function: plot the background of each frame\n",
    "def init():\n",
    "    # draw walls\n",
    "    ax.plot([-WIDTH,-WIDTH],[0,HEIGHT], linewidth=20, color='r')\n",
    "    ax.plot([WIDTH,WIDTH],[0,HEIGHT], linewidth=20, color='r')\n",
    "    ax.plot([-WIDTH,WIDTH],[0,0], linewidth=20, color='r')\n",
    "    ax.set_aspect('equal')\n",
    "    line1.set_data([], [])\n",
    "    line2.set_data([], [])\n",
    "    joint2.set_data([], [])\n",
    "    ax.plot(0,0,'b', marker='o', markerfacecolor='blue', markersize=12)   \n",
    "    return line1, line2, joint2,\n",
    "\n",
    "def fwdKinematics(theta1, theta2):\n",
    "    tip1 = [ LEN_SEGM * np.cos(theta1) , LEN_SEGM * np.sin(theta1) ]\n",
    "    tip2 = [ LEN_SEGM * np.cos(theta1+theta2) , LEN_SEGM * np.sin(theta1+theta2) ]\n",
    "    return tip1, tip2\n",
    "\n",
    "# animation function.  This is called sequentially\n",
    "def animate(i):\n",
    "    # get angles\n",
    "    theta1 = theta1_list[i]\n",
    "    theta2 = theta2_list[i]\n",
    "    # draw lines\n",
    "    tip1, tip2 = fwdKinematics(theta1, theta2)\n",
    "    line1.set_data([0, tip1[0]], [0, tip1[1]])\n",
    "    line2.set_data([tip1[0], tip1[0]+tip2[0]], [tip1[1], tip1[1]+tip2[1]])\n",
    "    joint2.set_data(tip1[0], tip1[1])\n",
    "    return line1, line2, joint2,\n",
    "\n",
    "# call the animator.  blit=True means only re-draw the parts that have changed.\n",
    "anim = animation.FuncAnimation(fig, animate, init_func=init,\n",
    "                               frames=100, interval=10, blit=True, repeat=False)\n",
    "\n",
    "# save the animation as an mp4.  This requires ffmpeg or mencoder to be\n",
    "# installed.  The extra_args ensure that the x264 codec is used, so that\n",
    "# the video can be embedded in html5.  You may need to adjust this for\n",
    "# your system: for more information, see\n",
    "# http://matplotlib.sourceforge.net/api/animation_api.htmlb\n",
    "# anim.save('basic_animation.mp4', fps=30, extra_args=['-vcodec', 'libx264'])\n",
    "\n",
    "plt.show()\n",
    "# (block=False)   #this creates an empty frozen window.\n",
    "# _ = raw_input(\"Press [enter] to continue.\")"
   ]
  },
  {
   "cell_type": "code",
   "execution_count": null,
   "metadata": {
    "collapsed": true
   },
   "outputs": [],
   "source": []
  },
  {
   "cell_type": "code",
   "execution_count": null,
   "metadata": {
    "collapsed": true
   },
   "outputs": [],
   "source": []
  },
  {
   "cell_type": "code",
   "execution_count": null,
   "metadata": {
    "collapsed": true
   },
   "outputs": [],
   "source": []
  },
  {
   "cell_type": "code",
   "execution_count": null,
   "metadata": {
    "collapsed": false
   },
   "outputs": [
    {
     "name": "stderr",
     "output_type": "stream",
     "text": [
      "/usr/lib/pymodules/python2.7/matplotlib/backend_bases.py:2407: MatplotlibDeprecationWarning: Using default event loop until function specific to this GUI is implemented\n",
      "  warnings.warn(str, mplDeprecation)\n"
     ]
    },
    {
     "name": "stdout",
     "output_type": "stream",
     "text": [
      "FAIL\n",
      "Trial # 0  - FAILED\n"
     ]
    }
   ],
   "source": [
    "import numpy as np\n",
    "import matplotlib.pyplot as plt\n",
    "from matplotlib import animation\n",
    "# import sys, time\n",
    "\n",
    "\n",
    "# First set up the figure, the axis, and the plot element we want to animate\n",
    "WIDTH = 20\n",
    "HEIGHT = 50\n",
    "LEN_SEGM = 20\n",
    "OFFSET = 2\n",
    "TIME_STEP = 30\n",
    "TRIALS = 100\n",
    "\n",
    "param1 = np.pi/4\n",
    "param2 = -np.pi/8\n",
    "\n",
    "theta1_list = np.linspace(np.pi/2, np.pi/2 + param1, TIME_STEP)\n",
    "theta2_list = np.linspace(0, 0 + param2, TIME_STEP)\n",
    "\n",
    "\n",
    "# initialization function: plot the background of each frame\n",
    "class Agent:\n",
    "    def __init__(self):\n",
    "        # define figure\n",
    "        self.fig = plt.figure()\n",
    "        self.ax = plt.axes(xlim=(-WIDTH-2, WIDTH+2), ylim=(-12, HEIGHT+2))\n",
    "        self.ax.set_aspect('equal')\n",
    "        plt.axis('off')\n",
    "         # draw walls\n",
    "        self.ax.plot([-WIDTH,-WIDTH],[0,HEIGHT], linewidth=20, color='r')\n",
    "        self.ax.plot([WIDTH,WIDTH],[0,HEIGHT], linewidth=20, color='r')\n",
    "        self.ax.plot([-WIDTH,WIDTH],[-OFFSET,-OFFSET], linewidth=20, color='r')\n",
    "        # define line segments\n",
    "        self.line1, = self.ax.plot([], [], lw=5, color='b')\n",
    "        self.line2, = self.ax.plot([], [], lw=5, color='g')\n",
    "        self.joint2, = self.ax.plot([], [],'g', marker='o', markerfacecolor='green', markersize=12) \n",
    "        self.line1.set_data([], [])\n",
    "        self.line2.set_data([], [])\n",
    "        self.joint2.set_data([], [])\n",
    "        self.ax.plot(0,0,'b', marker='o', markerfacecolor='blue', markersize=12)  \n",
    "        self.fail = False\n",
    "\n",
    "    def fwdKinematics(self, theta1, theta2):\n",
    "        tip1 = [ LEN_SEGM * np.cos(theta1) , LEN_SEGM * np.sin(theta1) ]\n",
    "        tip2 = [ LEN_SEGM * np.cos(theta1+theta2) , LEN_SEGM * np.sin(theta1+theta2) ]\n",
    "        return tip1, tip2\n",
    "\n",
    "    def checkFail(self, tip1, tip2):\n",
    "        if tip1[0]>WIDTH-OFFSET or tip1[0]<-WIDTH+OFFSET:\n",
    "            return True\n",
    "        if tip1[0]+tip2[0]>WIDTH-OFFSET or  tip1[0]+tip2[0]<-WIDTH+OFFSET:\n",
    "            return True\n",
    "        return False\n",
    "\n",
    "    def animate(self,i):\n",
    "        # get angles\n",
    "        theta1 = theta1_list[i]\n",
    "        theta2 = theta2_list[i]\n",
    "        # draw lines\n",
    "        tip1, tip2 = self.fwdKinematics(theta1, theta2)\n",
    "        if self.checkFail(tip1, tip2):\n",
    "            print \"FAIL\"\n",
    "            self.fail = True\n",
    "            return self.fail\n",
    "        self.line1.set_data([0, tip1[0]], [0, tip1[1]])\n",
    "        self.line2.set_data([tip1[0], tip1[0]+tip2[0]], [tip1[1], tip1[1]+tip2[1]])\n",
    "        self.joint2.set_data(tip1[0], tip1[1])\n",
    "        return self.fail\n",
    "\n",
    "def main():\n",
    "    sim = Agent()\n",
    "    for kk in range(TRIALS):\n",
    "        # run trial\n",
    "        sim.fail = False\n",
    "        for i in range(TIME_STEP):\n",
    "            if sim.animate(i):\n",
    "                break\n",
    "            plt.draw()\n",
    "            plt.pause(0.001)\n",
    "        if sim.fail:\n",
    "            print \"Trial #\",kk,\" - FAILED\"\n",
    "        else:\n",
    "            print \"Trial #\",kk,\" - SUCCESS - ({},{})\".format(2,2)\n",
    "            \n",
    "            \n",
    "        plt.show(block=False)   #this creates an empty frozen window.\n",
    "        _ = raw_input(\"Press [enter] to continue.\")\n",
    "\n",
    "\n",
    "if __name__ == '__main__':\n",
    "    main()\n",
    "    "
   ]
  }
 ],
 "metadata": {
  "kernelspec": {
   "display_name": "Python 2",
   "language": "python",
   "name": "python2"
  },
  "language_info": {
   "codemirror_mode": {
    "name": "ipython",
    "version": 2
   },
   "file_extension": ".py",
   "mimetype": "text/x-python",
   "name": "python",
   "nbconvert_exporter": "python",
   "pygments_lexer": "ipython2",
   "version": "2.7.6"
  },
  "widgets": {
   "state": {},
   "version": "1.1.2"
  }
 },
 "nbformat": 4,
 "nbformat_minor": 2
}
