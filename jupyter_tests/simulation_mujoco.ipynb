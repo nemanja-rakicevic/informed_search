{
 "cells": [
  {
   "cell_type": "code",
   "execution_count": 4,
   "metadata": {
    "scrolled": true
   },
   "outputs": [
    {
     "name": "stderr",
     "output_type": "stream",
     "text": [
      "[2017-10-11 19:27:06,945] Making new env: ReacherOneShot-v0\n"
     ]
    },
    {
     "data": {
      "text/plain": [
       "array([-1.        ,  2.        ,  0.        ,  0.        ,  0.        ,\n",
       "        0.        , -0.00841471, -0.05250629,  0.01      ])"
      ]
     },
     "execution_count": 4,
     "metadata": {},
     "output_type": "execute_result"
    }
   ],
   "source": [
    "import gym\n",
    "import mujoco_py\n",
    "from mujoco_py.mjlib import mjlib\n",
    "env = gym.make('ReacherOneShot-v0')\n",
    "env.reset()\n"
   ]
  },
  {
   "cell_type": "code",
   "execution_count": 5,
   "metadata": {},
   "outputs": [
    {
     "data": {
      "text/plain": [
       "0"
      ]
     },
     "execution_count": 5,
     "metadata": {},
     "output_type": "execute_result"
    }
   ],
   "source": [
    "env.unwrapped.data.ncon\n"
   ]
  },
  {
   "cell_type": "code",
   "execution_count": 17,
   "metadata": {},
   "outputs": [
    {
     "name": "stderr",
     "output_type": "stream",
     "text": [
      "[2017-10-11 19:49:22,255] Making new env: ReacherOneShot-v0\n"
     ]
    },
    {
     "name": "stdout",
     "output_type": "stream",
     "text": [
      "-1\n",
      "-1\n",
      "-1\n"
     ]
    }
   ],
   "source": [
    "\n",
    "import gym\n",
    "import numpy as np\n",
    "import time\n",
    "\n",
    "NUM_TRIALS = 10\n",
    "NUM_STEPS = 100\n",
    "\n",
    "# LOAD ENVIRONMENT\n",
    "if 'env' in locals(): \n",
    "    env.render(close=True)\n",
    "env = gym.make('ReacherOneShot-v0')\n",
    "\n",
    "# DEFINE PARAMETER RANGE\n",
    "range1 = np.linspace(0, 2, 50)\n",
    "range2 = np.linspace(0, -1, 50)\n",
    "\n",
    "def executeTrial(t, param):\n",
    "    theta_list = np.array([np.linspace(0, param[0], NUM_STEPS), np.linspace(0, param[1], NUM_STEPS)]).T\n",
    "    init_pos = env.reset()\n",
    "    init_pos = init_pos[:2]\n",
    "    # EXECUTE TRIAL\n",
    "    contact_cnt = 0\n",
    "    for i in range(NUM_STEPS):\n",
    "        env.render()\n",
    "        control = init_pos + theta_list[i]\n",
    "        ob, rew, done, info = env.step(control) \n",
    "        ball_xy = ob[2:4]\n",
    "        # Check collision\n",
    "        if env.unwrapped.data.ncon:\n",
    "            contact_cnt+=1\n",
    "            if contact_cnt > 5 and not sum(ball_xy)>0:\n",
    "                return -1\n",
    "    # Check movement\n",
    "    if not sum(ball_xy)>0:\n",
    "        return -2\n",
    "    # Calculate polar coords\n",
    "    ball_polar = np.array([ np.rad2deg(np.arctan2(-ball_xy[0], ball_xy[1])), np.sqrt(ball_xy[0]**2 + ball_xy[1]**2) * 100])\n",
    "    # INFO\n",
    "    print(\"\\nTRIAL #\", t+1,\"params\",[param1,param2])\n",
    "    print(\"CTRL:\\t\",  control)\n",
    "    print(\"Q_POS:\\t\", ob[:2])\n",
    "    print(\"Q_VEL:\\t\", ob[4:6])\n",
    "    print(\"BALL:\\t\",  ball_xy, ball_polar)\n",
    "    print(\"Wsadjsada\", ob[-1])\n",
    "    \n",
    "    return ball_polar\n",
    "\n",
    "\n",
    "\n",
    "# RUN TRIALS\n",
    "for t in range(3):\n",
    "    param1 = np.random.choice(range1)\n",
    "    param2 = np.random.choice(range2)\n",
    "\n",
    "    res = executeTrial(t, [param1, param2])\n",
    "    \n",
    "    print(res)\n",
    "    \n"
   ]
  },
  {
   "cell_type": "code",
   "execution_count": 18,
   "metadata": {},
   "outputs": [],
   "source": [
    "\n",
    "env.render(close=True)"
   ]
  }
 ],
 "metadata": {
  "kernelspec": {
   "display_name": "Python 2",
   "language": "python",
   "name": "python2"
  },
  "language_info": {
   "codemirror_mode": {
    "name": "ipython",
    "version": 3
   },
   "file_extension": ".py",
   "mimetype": "text/x-python",
   "name": "python",
   "nbconvert_exporter": "python",
   "pygments_lexer": "ipython3",
   "version": "3.5.2"
  },
  "widgets": {
   "state": {},
   "version": "1.1.2"
  }
 },
 "nbformat": 4,
 "nbformat_minor": 2
}
