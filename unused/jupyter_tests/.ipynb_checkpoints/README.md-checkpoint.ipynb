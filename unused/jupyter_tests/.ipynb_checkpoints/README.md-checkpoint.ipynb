{
 "cells": [
  {
   "cell_type": "markdown",
   "metadata": {},
   "source": [
    "# Informed Search of the Movement Parameter Space Approach"
   ]
  },
  {
   "cell_type": "markdown",
   "metadata": {},
   "source": [
    "This is the code for the approach presented in the paper [PAPER].\n",
    "The main notion is to perform Informed exploration in the parameter space to select movement paparameter vectors for trial execution."
   ]
  },
  {
   "cell_type": "markdown",
   "metadata": {},
   "source": [
    "## Dependencies\n",
    "\n",
    "\n",
    "- Python 3.5 (Anaconda environment provided)\n",
    "\n",
    "Robot experiment:\n",
    "\n",
    "- Rethink Robotics Baxter Robot\n",
    "- OpenCV 2\n",
    "- ROS"
   ]
  },
  {
   "cell_type": "markdown",
   "metadata": {},
   "source": [
    "## Using the `ReacherOneShotEnv` gym environment for simulation\n",
    "\n",
    "\n",
    "1) Add the environment files to the gym directories\n",
    "\n",
    "```$ cp reacher_oneshot.py ~/src/gym/gym/envs/mujoco/```\n",
    "\n",
    "```$ cp reacher_oneshot.xml ~/src/gym/gym/envs/mujoco/assets/```\n",
    "\n",
    "2) Add the entry to the  `~/src/gym/gym/envs/__init__.py`\n",
    "```\n",
    "register(\n",
    "    id='ReacherOneShot-v0',\n",
    "    entry_point='gym.envs.mujoco:ReacherOneShotEnv',\n",
    "    max_episode_steps=50,\n",
    "    reward_threshold=0,\n",
    ")\n",
    "```"
   ]
  }
 ],
 "metadata": {
  "kernelspec": {
   "display_name": "Python 3",
   "language": "python",
   "name": "python3"
  },
  "language_info": {
   "codemirror_mode": {
    "name": "ipython",
    "version": 3
   },
   "file_extension": ".py",
   "mimetype": "text/x-python",
   "name": "python",
   "nbconvert_exporter": "python",
   "pygments_lexer": "ipython3",
   "version": "3.5.2"
  },
  "widgets": {
   "state": {},
   "version": "1.1.2"
  }
 },
 "nbformat": 4,
 "nbformat_minor": 2
}
